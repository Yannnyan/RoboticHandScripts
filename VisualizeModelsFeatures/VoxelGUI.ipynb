{
 "cells": [
  {
   "cell_type": "code",
   "execution_count": null,
   "metadata": {},
   "outputs": [],
   "source": [
    "from VoxelModel.VoxelArchitecture import model, CNN_Block, Head_Block, CNN\n",
    "\n",
    "\n",
    "class VoxelGUI:\n",
    "    def __init__(self, model) -> None:\n",
    "        CNN_BLOCKS = []\n",
    "\n",
    "        for x in model.hidden_layers.modules():\n",
    "            if type(x) == CNN_Block:\n",
    "                CNN_BLOCKS.append(x)\n",
    "\n",
    "    def _update(self):\n",
    "        pass\n",
    "\n",
    "    def _redraw(self):\n",
    "        pass\n",
    "\n",
    "    def getFeatureMaps(self, model, x):\n",
    "        pass\n"
   ]
  }
 ],
 "metadata": {
  "language_info": {
   "name": "python"
  },
  "orig_nbformat": 4
 },
 "nbformat": 4,
 "nbformat_minor": 2
}
